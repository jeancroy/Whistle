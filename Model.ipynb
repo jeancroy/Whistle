{
 "cells": [
  {
   "cell_type": "code",
   "execution_count": 3,
   "id": "43654f50",
   "metadata": {},
   "outputs": [],
   "source": [
    "def computeBonusAndSpeed(individual, species, output):\n",
    "\n",
    "    berryBonus = 2.0 if species[\"Specialty\"] == 'Berries' else 1.0\n",
    "    ingBonus = 2.0 if species[\"Specialty\"] == 'Ingredients' else 1.0\n",
    "    \n",
    "    if individual[\"BerMod\"].find(\"S\") > -1: berryBonus += 1.0\n",
    "    \n",
    "    output[\"IngBonus\"] = ingBonus\n",
    "    output[\"BerryBonus\"] = berryBonus\n",
    "        \n",
    "    period = species[\"Period\"]\n",
    "    if individual[\"SpdMod\"].find(\"S\") > -1: period *= 0.93\n",
    "    if individual[\"SpdMod\"].find(\"M\") > -1: period *= 0.86\n",
    "    if individual[\"SpdMod\"].find(\"+\") > -1: period *= 0.9\n",
    "    if individual[\"SpdMod\"].find(\"-\") > -1: period *= 1.1\n",
    "    period /= (1 + (individual[\"Level\"]-1)*2.0/1000)\n",
    "    #period = math.floor(period)\n",
    "    \n",
    "    output[\"Period\"] = period\n",
    "    output[\"Help3h\"] = (3*60*60)/period\n",
    "    \n",
    "    delta = 1.0\n",
    "    if individual[\"IngMod\"].find(\"S\") > -1: delta *= 1.18\n",
    "    if individual[\"IngMod\"].find(\"M\") > -1: delta *= 1.36\n",
    "    if individual[\"IngMod\"].find(\"+\") > -1: delta *= 1.36\n",
    "    if individual[\"IngMod\"].find(\"-\") > -1: delta /= 1.36\n",
    "    \n",
    "    output[\"IngDelta\"] = delta\n",
    "    "
   ]
  },
  {
   "cell_type": "code",
   "execution_count": 2,
   "id": "0b6d0a68",
   "metadata": {},
   "outputs": [],
   "source": [
    "def berryCount(help3h, berryBonus, ingredient_fraction, energy_m):\n",
    "    return int(round(help3h*(1-ingredient_fraction)*energy_m*berryBonus))\n",
    "\n",
    "def ingCount(help3h, ingBonus, ingredient_fraction, energy_m):\n",
    "    return int(round(help3h*ingredient_fraction*energy_m*ingBonus))\n",
    "\n",
    "def validate(observation, computed, ingredient_fraction, energy_m):\n",
    "    \n",
    "    help3h = computed[\"Help3h\"]\n",
    "    ingBonus = computed[\"IngBonus\"]\n",
    "    berryBonus = computed[\"BerryBonus\"]\n",
    "    ingd = computed[\"IngDelta\"]\n",
    "    \n",
    "    #ingredient_fraction += ingd\n",
    "    \n",
    "    ing = ingCount(help3h, ingBonus, ingredient_fraction, energy_m)\n",
    "    ber = berryCount(help3h, berryBonus, ingredient_fraction, energy_m)\n",
    "    \n",
    "    return ing == int(observation[\"Ingredients\"]) and ber == int(observation[\"Berries\"])\n"
   ]
  },
  {
   "cell_type": "code",
   "execution_count": null,
   "id": "dfd16ed7",
   "metadata": {},
   "outputs": [],
   "source": []
  }
 ],
 "metadata": {
  "kernelspec": {
   "display_name": "Python 3 (ipykernel)",
   "language": "python",
   "name": "python3"
  },
  "language_info": {
   "codemirror_mode": {
    "name": "ipython",
    "version": 3
   },
   "file_extension": ".py",
   "mimetype": "text/x-python",
   "name": "python",
   "nbconvert_exporter": "python",
   "pygments_lexer": "ipython3",
   "version": "3.8.17"
  }
 },
 "nbformat": 4,
 "nbformat_minor": 5
}
